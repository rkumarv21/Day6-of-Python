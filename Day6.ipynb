{
 "cells": [
  {
   "cell_type": "markdown",
   "id": "9efbc05b",
   "metadata": {},
   "source": [
    "## Day 6"
   ]
  },
  {
   "cell_type": "markdown",
   "id": "2a56c9a7",
   "metadata": {},
   "source": [
    "### Function Definition"
   ]
  },
  {
   "cell_type": "code",
   "execution_count": 2,
   "id": "aa3bbcd0",
   "metadata": {},
   "outputs": [],
   "source": [
    "#def my_function():\n",
    "    #do this\n",
    "    # do that \n",
    "    \n",
    "# call the function by its name like my_function()\n",
    "\n",
    "#exmaple\n",
    "def my_function():\n",
    "    print(\"Hello World\")\n",
    "    print(\"What are you doing?\")\n",
    "my_function() # like this you can call the function\n"
   ]
  },
  {
   "cell_type": "markdown",
   "id": "07002ab3",
   "metadata": {},
   "source": [
    "#### while loop"
   ]
  },
  {
   "cell_type": "code",
   "execution_count": 3,
   "id": "05bb9471",
   "metadata": {},
   "outputs": [
    {
     "name": "stdout",
     "output_type": "stream",
     "text": [
      "5\n",
      "4\n",
      "3\n",
      "2\n",
      "1\n"
     ]
    }
   ],
   "source": [
    "# while loop will run untill given condition is correct\n",
    "number = 5\n",
    "while number>0:\n",
    "    print(number)\n",
    "    number-=1\n",
    "    "
   ]
  },
  {
   "cell_type": "code",
   "execution_count": null,
   "id": "b74077ff",
   "metadata": {},
   "outputs": [],
   "source": []
  }
 ],
 "metadata": {
  "kernelspec": {
   "display_name": "Python 3 (ipykernel)",
   "language": "python",
   "name": "python3"
  },
  "language_info": {
   "codemirror_mode": {
    "name": "ipython",
    "version": 3
   },
   "file_extension": ".py",
   "mimetype": "text/x-python",
   "name": "python",
   "nbconvert_exporter": "python",
   "pygments_lexer": "ipython3",
   "version": "3.9.7"
  }
 },
 "nbformat": 4,
 "nbformat_minor": 5
}
